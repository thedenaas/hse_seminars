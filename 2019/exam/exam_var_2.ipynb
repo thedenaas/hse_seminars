{
 "cells": [
  {
   "cell_type": "markdown",
   "metadata": {},
   "source": [
    "# Exam\n",
    "\n",
    "Develop a model for predicting review rating.  \n",
    "**Binary classification:**  \n",
    "**positive class: target = 5**   \n",
    "**negative class: target = 1,2,3,4**  \n",
    "Score: **binary F1**  \n",
    "You are forbidden to use test dataset for any kind of training.  \n",
    "Remember proper training pipeline.  \n",
    "If you are not using default params in the models, you have to use some validation scheme to justify them. \n",
    "\n",
    "Use `random_state` or `seed` params - your experiment must be reprodusible.\n",
    "\n",
    "\n",
    "### 1 baseline = 0.720\n",
    "### 2 baseline = 0.745\n"
   ]
  },
  {
   "cell_type": "code",
   "execution_count": 1,
   "metadata": {},
   "outputs": [],
   "source": [
    "import pandas as pd\n",
    "\n",
   ]
  },
  {
   "cell_type": "code",
   "execution_count": 2,
   "metadata": {},
   "outputs": [
    {
     "data": {
      "text/plain": [
       "(48192, 3)"
      ]
     },
     "execution_count": 2,
     "metadata": {},
     "output_type": "execute_result"
    }
   ],
   "source": [
    "df_train = pd.read_csv('train.csv')\n",
    "df_test = pd.read_csv('test.csv')\n",
    "\n",
    "df_train['target'] = (df_train['target'] == 5).astype(np.int)\n",
    "df_test['target'] = (df_test['target'] == 5).astype(np.int)\n",
    "\n",
    "df_train.shape"
   ]
  }
 ],
 "metadata": {
  "kernelspec": {
   "display_name": "Python 3",
   "language": "python",
   "name": "python3"
  },
  "language_info": {
   "codemirror_mode": {
    "name": "ipython",
    "version": 3
   },
   "file_extension": ".py",
   "mimetype": "text/x-python",
   "name": "python",
   "nbconvert_exporter": "python",
   "pygments_lexer": "ipython3",
   "version": "3.7.6"
  }
 },
 "nbformat": 4,
 "nbformat_minor": 4
}
